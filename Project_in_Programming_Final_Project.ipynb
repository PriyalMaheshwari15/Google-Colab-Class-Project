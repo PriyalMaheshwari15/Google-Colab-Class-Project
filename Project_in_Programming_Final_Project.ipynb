{
  "nbformat": 4,
  "nbformat_minor": 0,
  "metadata": {
    "colab": {
      "provenance": []
    },
    "kernelspec": {
      "name": "python3",
      "display_name": "Python 3"
    },
    "language_info": {
      "name": "python"
    }
  },
  "cells": [
    {
      "cell_type": "code",
      "execution_count": null,
      "metadata": {
        "id": "sBqAJxiswsj2"
      },
      "outputs": [],
      "source": [
        "import pandas as pd\n",
        "import re"
      ]
    },
    {
      "cell_type": "code",
      "source": [
        "from google.colab import drive\n",
        "drive.mount('/content/drive/')"
      ],
      "metadata": {
        "colab": {
          "base_uri": "https://localhost:8080/"
        },
        "id": "AnEwISFzxt9o",
        "outputId": "559f68f9-179b-41f6-f90f-338c8de5280d"
      },
      "execution_count": null,
      "outputs": [
        {
          "output_type": "stream",
          "name": "stdout",
          "text": [
            "Drive already mounted at /content/drive/; to attempt to forcibly remount, call drive.mount(\"/content/drive/\", force_remount=True).\n"
          ]
        }
      ]
    },
    {
      "cell_type": "code",
      "source": [
        "%cd /content/drive/My Drive/Colab Notebooks/"
      ],
      "metadata": {
        "colab": {
          "base_uri": "https://localhost:8080/"
        },
        "id": "aUuD91N2I3lw",
        "outputId": "a56f8648-49d6-467c-ae48-92e3ae8d7386"
      },
      "execution_count": null,
      "outputs": [
        {
          "output_type": "stream",
          "name": "stdout",
          "text": [
            "/content/drive/My Drive/Colab Notebooks\n"
          ]
        }
      ]
    },
    {
      "cell_type": "code",
      "source": [
        "df = pd.ExcelFile('/content/drive/My Drive/clean bars data 1.xlsx')"
      ],
      "metadata": {
        "id": "C9y60a4EJCKN"
      },
      "execution_count": null,
      "outputs": []
    },
    {
      "cell_type": "code",
      "source": [
        "bar_reviews = pd.read_excel(df, 'clean bars data 1') #WE COULD CLEAN THE DATA AFTERWARDS\n",
        "categories_df = pd.read_excel(df, 'Categories Key Words')"
      ],
      "metadata": {
        "id": "YSOcN865wy6r"
      },
      "execution_count": null,
      "outputs": []
    },
    {
      "cell_type": "code",
      "source": [
        "bar_reviews = bar_reviews.drop(['Unnamed: 0','google_id', 'place_id', 'location_link', \n",
        "                  'reviews_link', 'reviews_per_score', 'avg_rating', 'review_rating',\n",
        "                  'author_link', 'review_id', 'author_id', 'author_name', 'author_image', \n",
        "                  'review_img_url', 'review_link',\n",
        "                  'review_timestamp', 'review_datetime_utc', 'review_likes', 'reviews_id',\n",
        "                  'Latitude', 'Longitude' ], axis=1)"
      ],
      "metadata": {
        "id": "f2pqFEuBk6pw"
      },
      "execution_count": null,
      "outputs": []
    },
    {
      "cell_type": "code",
      "source": [
        "#make every word lower case\n",
        "bar_reviews['review_text'] = bar_reviews['review_text'].str.lower()"
      ],
      "metadata": {
        "id": "Ga-KQolLmC9V"
      },
      "execution_count": null,
      "outputs": []
    },
    {
      "cell_type": "code",
      "source": [],
      "metadata": {
        "id": "yQ8HU0NsmGmf"
      },
      "execution_count": null,
      "outputs": []
    },
    {
      "cell_type": "code",
      "source": [
        "bar_reviews.head()"
      ],
      "metadata": {
        "colab": {
          "base_uri": "https://localhost:8080/",
          "height": 206
        },
        "id": "22J1HNHVN3r9",
        "outputId": "ee89bb9f-c8da-4642-84f3-d83a00962869"
      },
      "execution_count": null,
      "outputs": [
        {
          "output_type": "execute_result",
          "data": {
            "text/plain": [
              "      name                                        review_text\n",
              "0  Vig Bar  chill vibe. either an all-day or one-and-done ...\n",
              "1  Vig Bar  what a party. cool cocktail bar during the day...\n",
              "2  Vig Bar  after contacting 25+ different places, i chose...\n",
              "3  Vig Bar  chill spot for drinks. the pizza looked good b...\n",
              "4  Vig Bar  i was able to host a small holiday party event..."
            ],
            "text/html": [
              "\n",
              "  <div id=\"df-9e5f533e-0924-4af6-86ae-9832ef8f5fea\">\n",
              "    <div class=\"colab-df-container\">\n",
              "      <div>\n",
              "<style scoped>\n",
              "    .dataframe tbody tr th:only-of-type {\n",
              "        vertical-align: middle;\n",
              "    }\n",
              "\n",
              "    .dataframe tbody tr th {\n",
              "        vertical-align: top;\n",
              "    }\n",
              "\n",
              "    .dataframe thead th {\n",
              "        text-align: right;\n",
              "    }\n",
              "</style>\n",
              "<table border=\"1\" class=\"dataframe\">\n",
              "  <thead>\n",
              "    <tr style=\"text-align: right;\">\n",
              "      <th></th>\n",
              "      <th>name</th>\n",
              "      <th>review_text</th>\n",
              "    </tr>\n",
              "  </thead>\n",
              "  <tbody>\n",
              "    <tr>\n",
              "      <th>0</th>\n",
              "      <td>Vig Bar</td>\n",
              "      <td>chill vibe. either an all-day or one-and-done ...</td>\n",
              "    </tr>\n",
              "    <tr>\n",
              "      <th>1</th>\n",
              "      <td>Vig Bar</td>\n",
              "      <td>what a party. cool cocktail bar during the day...</td>\n",
              "    </tr>\n",
              "    <tr>\n",
              "      <th>2</th>\n",
              "      <td>Vig Bar</td>\n",
              "      <td>after contacting 25+ different places, i chose...</td>\n",
              "    </tr>\n",
              "    <tr>\n",
              "      <th>3</th>\n",
              "      <td>Vig Bar</td>\n",
              "      <td>chill spot for drinks. the pizza looked good b...</td>\n",
              "    </tr>\n",
              "    <tr>\n",
              "      <th>4</th>\n",
              "      <td>Vig Bar</td>\n",
              "      <td>i was able to host a small holiday party event...</td>\n",
              "    </tr>\n",
              "  </tbody>\n",
              "</table>\n",
              "</div>\n",
              "      <button class=\"colab-df-convert\" onclick=\"convertToInteractive('df-9e5f533e-0924-4af6-86ae-9832ef8f5fea')\"\n",
              "              title=\"Convert this dataframe to an interactive table.\"\n",
              "              style=\"display:none;\">\n",
              "        \n",
              "  <svg xmlns=\"http://www.w3.org/2000/svg\" height=\"24px\"viewBox=\"0 0 24 24\"\n",
              "       width=\"24px\">\n",
              "    <path d=\"M0 0h24v24H0V0z\" fill=\"none\"/>\n",
              "    <path d=\"M18.56 5.44l.94 2.06.94-2.06 2.06-.94-2.06-.94-.94-2.06-.94 2.06-2.06.94zm-11 1L8.5 8.5l.94-2.06 2.06-.94-2.06-.94L8.5 2.5l-.94 2.06-2.06.94zm10 10l.94 2.06.94-2.06 2.06-.94-2.06-.94-.94-2.06-.94 2.06-2.06.94z\"/><path d=\"M17.41 7.96l-1.37-1.37c-.4-.4-.92-.59-1.43-.59-.52 0-1.04.2-1.43.59L10.3 9.45l-7.72 7.72c-.78.78-.78 2.05 0 2.83L4 21.41c.39.39.9.59 1.41.59.51 0 1.02-.2 1.41-.59l7.78-7.78 2.81-2.81c.8-.78.8-2.07 0-2.86zM5.41 20L4 18.59l7.72-7.72 1.47 1.35L5.41 20z\"/>\n",
              "  </svg>\n",
              "      </button>\n",
              "      \n",
              "  <style>\n",
              "    .colab-df-container {\n",
              "      display:flex;\n",
              "      flex-wrap:wrap;\n",
              "      gap: 12px;\n",
              "    }\n",
              "\n",
              "    .colab-df-convert {\n",
              "      background-color: #E8F0FE;\n",
              "      border: none;\n",
              "      border-radius: 50%;\n",
              "      cursor: pointer;\n",
              "      display: none;\n",
              "      fill: #1967D2;\n",
              "      height: 32px;\n",
              "      padding: 0 0 0 0;\n",
              "      width: 32px;\n",
              "    }\n",
              "\n",
              "    .colab-df-convert:hover {\n",
              "      background-color: #E2EBFA;\n",
              "      box-shadow: 0px 1px 2px rgba(60, 64, 67, 0.3), 0px 1px 3px 1px rgba(60, 64, 67, 0.15);\n",
              "      fill: #174EA6;\n",
              "    }\n",
              "\n",
              "    [theme=dark] .colab-df-convert {\n",
              "      background-color: #3B4455;\n",
              "      fill: #D2E3FC;\n",
              "    }\n",
              "\n",
              "    [theme=dark] .colab-df-convert:hover {\n",
              "      background-color: #434B5C;\n",
              "      box-shadow: 0px 1px 3px 1px rgba(0, 0, 0, 0.15);\n",
              "      filter: drop-shadow(0px 1px 2px rgba(0, 0, 0, 0.3));\n",
              "      fill: #FFFFFF;\n",
              "    }\n",
              "  </style>\n",
              "\n",
              "      <script>\n",
              "        const buttonEl =\n",
              "          document.querySelector('#df-9e5f533e-0924-4af6-86ae-9832ef8f5fea button.colab-df-convert');\n",
              "        buttonEl.style.display =\n",
              "          google.colab.kernel.accessAllowed ? 'block' : 'none';\n",
              "\n",
              "        async function convertToInteractive(key) {\n",
              "          const element = document.querySelector('#df-9e5f533e-0924-4af6-86ae-9832ef8f5fea');\n",
              "          const dataTable =\n",
              "            await google.colab.kernel.invokeFunction('convertToInteractive',\n",
              "                                                     [key], {});\n",
              "          if (!dataTable) return;\n",
              "\n",
              "          const docLinkHtml = 'Like what you see? Visit the ' +\n",
              "            '<a target=\"_blank\" href=https://colab.research.google.com/notebooks/data_table.ipynb>data table notebook</a>'\n",
              "            + ' to learn more about interactive tables.';\n",
              "          element.innerHTML = '';\n",
              "          dataTable['output_type'] = 'display_data';\n",
              "          await google.colab.output.renderOutput(dataTable, element);\n",
              "          const docLink = document.createElement('div');\n",
              "          docLink.innerHTML = docLinkHtml;\n",
              "          element.appendChild(docLink);\n",
              "        }\n",
              "      </script>\n",
              "    </div>\n",
              "  </div>\n",
              "  "
            ]
          },
          "metadata": {},
          "execution_count": 8
        }
      ]
    },
    {
      "cell_type": "code",
      "source": [
        "categories_df.head()\n"
      ],
      "metadata": {
        "colab": {
          "base_uri": "https://localhost:8080/",
          "height": 206
        },
        "id": "rNYWAigtNc0f",
        "outputId": "bab898e4-bf52-495d-b6f1-c1776c2136c7"
      },
      "execution_count": null,
      "outputs": [
        {
          "output_type": "execute_result",
          "data": {
            "text/plain": [
              "    Price Ambience/Vibes Food/Drinks/Menu  Cleanliness Service/Staff\n",
              "0   price       ambience             food  cleanliness       waiters\n",
              "1   money          vibes           drinks        clean    waitresses\n",
              "2  credit    environment             menu        dirty       servers\n",
              "3    cash       lighting             cook       sticky         hosts\n",
              "4    card          music             chef       grimey     hostesses"
            ],
            "text/html": [
              "\n",
              "  <div id=\"df-4bc78879-a85a-4bfa-a622-587cfc7505c9\">\n",
              "    <div class=\"colab-df-container\">\n",
              "      <div>\n",
              "<style scoped>\n",
              "    .dataframe tbody tr th:only-of-type {\n",
              "        vertical-align: middle;\n",
              "    }\n",
              "\n",
              "    .dataframe tbody tr th {\n",
              "        vertical-align: top;\n",
              "    }\n",
              "\n",
              "    .dataframe thead th {\n",
              "        text-align: right;\n",
              "    }\n",
              "</style>\n",
              "<table border=\"1\" class=\"dataframe\">\n",
              "  <thead>\n",
              "    <tr style=\"text-align: right;\">\n",
              "      <th></th>\n",
              "      <th>Price</th>\n",
              "      <th>Ambience/Vibes</th>\n",
              "      <th>Food/Drinks/Menu</th>\n",
              "      <th>Cleanliness</th>\n",
              "      <th>Service/Staff</th>\n",
              "    </tr>\n",
              "  </thead>\n",
              "  <tbody>\n",
              "    <tr>\n",
              "      <th>0</th>\n",
              "      <td>price</td>\n",
              "      <td>ambience</td>\n",
              "      <td>food</td>\n",
              "      <td>cleanliness</td>\n",
              "      <td>waiters</td>\n",
              "    </tr>\n",
              "    <tr>\n",
              "      <th>1</th>\n",
              "      <td>money</td>\n",
              "      <td>vibes</td>\n",
              "      <td>drinks</td>\n",
              "      <td>clean</td>\n",
              "      <td>waitresses</td>\n",
              "    </tr>\n",
              "    <tr>\n",
              "      <th>2</th>\n",
              "      <td>credit</td>\n",
              "      <td>environment</td>\n",
              "      <td>menu</td>\n",
              "      <td>dirty</td>\n",
              "      <td>servers</td>\n",
              "    </tr>\n",
              "    <tr>\n",
              "      <th>3</th>\n",
              "      <td>cash</td>\n",
              "      <td>lighting</td>\n",
              "      <td>cook</td>\n",
              "      <td>sticky</td>\n",
              "      <td>hosts</td>\n",
              "    </tr>\n",
              "    <tr>\n",
              "      <th>4</th>\n",
              "      <td>card</td>\n",
              "      <td>music</td>\n",
              "      <td>chef</td>\n",
              "      <td>grimey</td>\n",
              "      <td>hostesses</td>\n",
              "    </tr>\n",
              "  </tbody>\n",
              "</table>\n",
              "</div>\n",
              "      <button class=\"colab-df-convert\" onclick=\"convertToInteractive('df-4bc78879-a85a-4bfa-a622-587cfc7505c9')\"\n",
              "              title=\"Convert this dataframe to an interactive table.\"\n",
              "              style=\"display:none;\">\n",
              "        \n",
              "  <svg xmlns=\"http://www.w3.org/2000/svg\" height=\"24px\"viewBox=\"0 0 24 24\"\n",
              "       width=\"24px\">\n",
              "    <path d=\"M0 0h24v24H0V0z\" fill=\"none\"/>\n",
              "    <path d=\"M18.56 5.44l.94 2.06.94-2.06 2.06-.94-2.06-.94-.94-2.06-.94 2.06-2.06.94zm-11 1L8.5 8.5l.94-2.06 2.06-.94-2.06-.94L8.5 2.5l-.94 2.06-2.06.94zm10 10l.94 2.06.94-2.06 2.06-.94-2.06-.94-.94-2.06-.94 2.06-2.06.94z\"/><path d=\"M17.41 7.96l-1.37-1.37c-.4-.4-.92-.59-1.43-.59-.52 0-1.04.2-1.43.59L10.3 9.45l-7.72 7.72c-.78.78-.78 2.05 0 2.83L4 21.41c.39.39.9.59 1.41.59.51 0 1.02-.2 1.41-.59l7.78-7.78 2.81-2.81c.8-.78.8-2.07 0-2.86zM5.41 20L4 18.59l7.72-7.72 1.47 1.35L5.41 20z\"/>\n",
              "  </svg>\n",
              "      </button>\n",
              "      \n",
              "  <style>\n",
              "    .colab-df-container {\n",
              "      display:flex;\n",
              "      flex-wrap:wrap;\n",
              "      gap: 12px;\n",
              "    }\n",
              "\n",
              "    .colab-df-convert {\n",
              "      background-color: #E8F0FE;\n",
              "      border: none;\n",
              "      border-radius: 50%;\n",
              "      cursor: pointer;\n",
              "      display: none;\n",
              "      fill: #1967D2;\n",
              "      height: 32px;\n",
              "      padding: 0 0 0 0;\n",
              "      width: 32px;\n",
              "    }\n",
              "\n",
              "    .colab-df-convert:hover {\n",
              "      background-color: #E2EBFA;\n",
              "      box-shadow: 0px 1px 2px rgba(60, 64, 67, 0.3), 0px 1px 3px 1px rgba(60, 64, 67, 0.15);\n",
              "      fill: #174EA6;\n",
              "    }\n",
              "\n",
              "    [theme=dark] .colab-df-convert {\n",
              "      background-color: #3B4455;\n",
              "      fill: #D2E3FC;\n",
              "    }\n",
              "\n",
              "    [theme=dark] .colab-df-convert:hover {\n",
              "      background-color: #434B5C;\n",
              "      box-shadow: 0px 1px 3px 1px rgba(0, 0, 0, 0.15);\n",
              "      filter: drop-shadow(0px 1px 2px rgba(0, 0, 0, 0.3));\n",
              "      fill: #FFFFFF;\n",
              "    }\n",
              "  </style>\n",
              "\n",
              "      <script>\n",
              "        const buttonEl =\n",
              "          document.querySelector('#df-4bc78879-a85a-4bfa-a622-587cfc7505c9 button.colab-df-convert');\n",
              "        buttonEl.style.display =\n",
              "          google.colab.kernel.accessAllowed ? 'block' : 'none';\n",
              "\n",
              "        async function convertToInteractive(key) {\n",
              "          const element = document.querySelector('#df-4bc78879-a85a-4bfa-a622-587cfc7505c9');\n",
              "          const dataTable =\n",
              "            await google.colab.kernel.invokeFunction('convertToInteractive',\n",
              "                                                     [key], {});\n",
              "          if (!dataTable) return;\n",
              "\n",
              "          const docLinkHtml = 'Like what you see? Visit the ' +\n",
              "            '<a target=\"_blank\" href=https://colab.research.google.com/notebooks/data_table.ipynb>data table notebook</a>'\n",
              "            + ' to learn more about interactive tables.';\n",
              "          element.innerHTML = '';\n",
              "          dataTable['output_type'] = 'display_data';\n",
              "          await google.colab.output.renderOutput(dataTable, element);\n",
              "          const docLink = document.createElement('div');\n",
              "          docLink.innerHTML = docLinkHtml;\n",
              "          element.appendChild(docLink);\n",
              "        }\n",
              "      </script>\n",
              "    </div>\n",
              "  </div>\n",
              "  "
            ]
          },
          "metadata": {},
          "execution_count": 9
        }
      ]
    },
    {
      "cell_type": "code",
      "source": [
        "#categories_df.columns : Index(['Price', 'Ambience/Vibes', 'Food/Drinks/Menu', 'Cleaniness', 'Service/Staff'], dtype='object')"
      ],
      "metadata": {
        "id": "Mwumns2cQnmq"
      },
      "execution_count": null,
      "outputs": []
    },
    {
      "cell_type": "code",
      "source": [
        "category_dic = {} #make a dictionary of word lists for each category\n",
        "for category in categories_df.columns:\n",
        " category_dic[category] = set(categories_df[category].to_list())"
      ],
      "metadata": {
        "id": "CPhXecv5PU3g"
      },
      "execution_count": null,
      "outputs": []
    },
    {
      "cell_type": "code",
      "source": [
        "print(category_dic.keys())"
      ],
      "metadata": {
        "colab": {
          "base_uri": "https://localhost:8080/"
        },
        "id": "sFwwpDtngbMu",
        "outputId": "9abe4314-c175-4745-aa8c-d06d513ed0bb"
      },
      "execution_count": null,
      "outputs": [
        {
          "output_type": "stream",
          "name": "stdout",
          "text": [
            "dict_keys(['Price', 'Ambience/Vibes', 'Food/Drinks/Menu', 'Cleanliness', 'Service/Staff'])\n"
          ]
        }
      ]
    },
    {
      "cell_type": "code",
      "source": [
        "categories_column = []\n",
        "\n",
        "for review in bar_reviews['review_text']:\n",
        "  designated_categories = [] #the categories the review belong to\n",
        "\n",
        "  review = str(review).lower() #make the review case insensitive (because all the words in the category word lists are lower cased)\n",
        "  \n",
        "  review_words = review.split() #make a list of every word in the review\n",
        "\n",
        "  for category in category_dic.keys():\n",
        "    \n",
        "    i = 0\n",
        "    while i in range(0,len(review_words)):                   #iterate through every word in the review\n",
        "      if review_words[i] in category_dic.get(category):      #if the review has a word from the category word list, designated the category to the review\n",
        "          designated_categories.append(category)\n",
        "          break\n",
        "      else: \n",
        "        i+=1\n",
        "\n",
        "  categories_column.append(\", \".join(designated_categories))\n"
      ],
      "metadata": {
        "id": "z6_cq7USh40q"
      },
      "execution_count": null,
      "outputs": []
    },
    {
      "cell_type": "code",
      "source": [
        "#What if the word contains '' \"\" ! , . etc. Do we need to just use Regex?"
      ],
      "metadata": {
        "id": "4xQ1AKvxzVgM"
      },
      "execution_count": null,
      "outputs": []
    },
    {
      "cell_type": "code",
      "source": [
        "bar_reviews['review_categories'] = categories_column\n",
        "bar_reviews.head()\n",
        "bar_reviews['review_text']"
      ],
      "metadata": {
        "colab": {
          "base_uri": "https://localhost:8080/"
        },
        "id": "XC50GWTOmMNA",
        "outputId": "61709dfc-9712-4bfd-c351-b68f83527430"
      },
      "execution_count": null,
      "outputs": [
        {
          "output_type": "execute_result",
          "data": {
            "text/plain": [
              "0       chill vibe. either an all-day or one-and-done ...\n",
              "1       what a party. cool cocktail bar during the day...\n",
              "2       after contacting 25+ different places, i chose...\n",
              "3       chill spot for drinks. the pizza looked good b...\n",
              "4       i was able to host a small holiday party event...\n",
              "                              ...                        \n",
              "3204    great beer selection but the food is not good....\n",
              "3205    the keg room is a great spot to go in midtown!...\n",
              "3206    nice ! very nice.good food and amazing choice ...\n",
              "3207    great ambience. service was attentive at the b...\n",
              "3208    excellent beer! i actually thought ilost my wa...\n",
              "Name: review_text, Length: 3209, dtype: object"
            ]
          },
          "metadata": {},
          "execution_count": 15
        }
      ]
    },
    {
      "cell_type": "code",
      "source": [
        "bar_list = set()\n",
        "for i in range(0,len(bar_reviews.index)):\n",
        "  bar_list.add(bar_reviews.iloc[i]['name'])\n",
        "bar_list\n"
      ],
      "metadata": {
        "colab": {
          "base_uri": "https://localhost:8080/"
        },
        "id": "FbgfH7RW3jPd",
        "outputId": "7890cbbf-0314-40a4-9bbb-39a741dea60f"
      },
      "execution_count": null,
      "outputs": [
        {
          "output_type": "execute_result",
          "data": {
            "text/plain": [
              "{'Albion Bar',\n",
              " 'Ampersand',\n",
              " 'Attaboy',\n",
              " 'BAR GOTO',\n",
              " 'Blaggards Pub',\n",
              " 'Brandy Library',\n",
              " 'Bubo',\n",
              " 'Cask Bar & Kitchen',\n",
              " 'District Tap House',\n",
              " 'Fig. 19',\n",
              " 'Flannerys Bar',\n",
              " \"Garfunkel's\",\n",
              " 'Gold Bear',\n",
              " 'Goodnight Sonny',\n",
              " 'Holiday Cocktail Lounge',\n",
              " 'Juniper Bar',\n",
              " 'Local',\n",
              " 'Nancy Whiskey Pub',\n",
              " 'Nassau Bar',\n",
              " 'Patriot Saloon',\n",
              " 'RPM Bar',\n",
              " 'Raines Law Room Chelsea',\n",
              " 'STATE Grill and Bar',\n",
              " 'Sweet & Vicious',\n",
              " 'The Half Pint',\n",
              " 'The Junction',\n",
              " 'The Keg Room',\n",
              " 'The Skinny Bar and Lounge',\n",
              " 'The Up & Up',\n",
              " 'Vig Bar',\n",
              " 'Whiskey Tavern'}"
            ]
          },
          "metadata": {},
          "execution_count": 16
        }
      ]
    },
    {
      "cell_type": "code",
      "source": [
        "for bar in bar_list:\n",
        "  print (\"***\"+bar+\"***\")\n",
        "  reviews_df = pd.DataFrame(bar_reviews[bar_reviews['name']==bar])\n",
        "  for category in category_dic.keys():\n",
        "    print('-'+category+'-')\n",
        "    display(reviews_df[reviews_df['review_categories'].str.contains(category)]['review_text'])\n",
        "\n",
        "\n"
      ],
      "metadata": {
        "id": "02sIgadI1BVT"
      },
      "execution_count": null,
      "outputs": []
    },
    {
      "cell_type": "code",
      "source": [
        "#Reference: https://subscription.packtpub.com/book/data/9781838987312/2/ch02lvl1sec13/splitting-sentences-into-clauses"
      ],
      "metadata": {
        "id": "4YDqdr4g9STv"
      },
      "execution_count": null,
      "outputs": []
    },
    {
      "cell_type": "code",
      "source": [
        "import spacy\n",
        "nlp = spacy.load('en_core_web_sm')"
      ],
      "metadata": {
        "id": "FoAZgVN5UyYo"
      },
      "execution_count": null,
      "outputs": []
    },
    {
      "cell_type": "code",
      "source": [
        "#defining a function to find the root token of the sentence\n",
        "#root token: usually the main verb of the sentence or the verb of the independent clause\n",
        "def find_root_of_sentence(doc):\n",
        "  root_token = None\n",
        "  for token in doc:\n",
        "    if (token.dep_ == \"ROOT\"):\n",
        "      root_token = token\n",
        "  return root_token"
      ],
      "metadata": {
        "id": "4OQ9xgauV0F-"
      },
      "execution_count": null,
      "outputs": []
    },
    {
      "cell_type": "code",
      "source": [
        "#defining a function to find the other verbs in the sentnece\n",
        "def find_other_verbs(doc, root_token):\n",
        "  other_verbs = []\n",
        "  for token in doc:\n",
        "    ancestors = list(token.ancestors)\n",
        "    if token.pos_ in (\"VERB\",\"AUX\") and len(ancestors) == 1 and ancestors[0] == root_token:\n",
        "      other_verbs.append(token)\n",
        "  return other_verbs"
      ],
      "metadata": {
        "id": "OY84Ac1oYZXR"
      },
      "execution_count": null,
      "outputs": []
    },
    {
      "cell_type": "code",
      "source": [
        "#defining a function to find the token spans for each verb\n",
        "def get_clause_token_span_for_verb(verb, doc, all_verbs):\n",
        "    first_token_index = len(doc)\n",
        "    last_token_index = 0\n",
        "    this_verb_children = list(verb.children)\n",
        "    for child in this_verb_children:\n",
        "        if child not in all_verbs:\n",
        "            if child.i < first_token_index:\n",
        "                first_token_index = child.i\n",
        "            if child.i > last_token_index:\n",
        "                last_token_index = child.i\n",
        "    return first_token_index, last_token_index"
      ],
      "metadata": {
        "id": "q37Rvk0SaBtf"
      },
      "execution_count": null,
      "outputs": []
    },
    {
      "cell_type": "code",
      "source": [
        "import nltk\n",
        "nltk.download('punkt')\n",
        "from nltk.tokenize import sent_tokenize\n"
      ],
      "metadata": {
        "id": "Bh8am-Kdibvv",
        "colab": {
          "base_uri": "https://localhost:8080/"
        },
        "outputId": "78b4edb7-1e40-4de9-99e6-c85f71e72d38"
      },
      "execution_count": null,
      "outputs": [
        {
          "output_type": "stream",
          "name": "stdout",
          "text": [
            "[nltk_data] Downloading package punkt to /root/nltk_data...\n",
            "[nltk_data]   Package punkt is already up-to-date!\n"
          ]
        }
      ]
    },
    {
      "cell_type": "code",
      "source": [
        "review = bar_reviews['review_text'].loc[15]\n",
        "review = str(review).lower()\n",
        "sentences = sent_tokenize(review)\n",
        "sentence = sentences[2]\n",
        "print(sentence)\n",
        "doc = nlp(sentence)\n",
        "root_token = find_root_of_sentence(doc)\n",
        "print(root_token)\n",
        "other_verbs = find_other_verbs(doc,root_token)\n",
        "print(other_verbs)\n",
        "token_spans = []\n",
        "all_verbs = [root_token] + other_verbs\n",
        "all_verbs = [x for x in all_verbs if x != None]\n",
        "print(all_verbs)\n",
        "for other_verb in all_verbs:\n",
        "    first_token_index, last_token_index = get_clause_token_span_for_verb(other_verb, doc, all_verbs)\n",
        "    token_spans.append((first_token_index,last_token_index))\n",
        "print(token_spans)\n",
        "sentence_clauses = []\n",
        "for token_span in token_spans:\n",
        "  start = token_span[0]\n",
        "  end = token_span[1]\n",
        "  if start < end:\n",
        "    clause = doc[start:end]\n",
        "    sentence_clauses.append(clause)\n",
        "sentence_clauses\n"
      ],
      "metadata": {
        "colab": {
          "base_uri": "https://localhost:8080/"
        },
        "id": "t3SG-ljzrmaQ",
        "outputId": "a151984a-c794-49a9-9da4-bc099cc82934"
      },
      "execution_count": null,
      "outputs": [
        {
          "output_type": "stream",
          "name": "stdout",
          "text": [
            "owner happened to be in during our visit, and he and his companion were also incredibly friendly.\n",
            "happened\n",
            "[be, were]\n",
            "[happened, be, were]\n",
            "[(0, 9), (2, 5), (10, 18)]\n"
          ]
        },
        {
          "output_type": "execute_result",
          "data": {
            "text/plain": [
              "[owner happened to be in during our visit,,\n",
              " to be in,\n",
              " he and his companion were also incredibly friendly]"
            ]
          },
          "metadata": {},
          "execution_count": 24
        }
      ]
    },
    {
      "cell_type": "code",
      "source": [
        "for review in bar_reviews['review_text']:\n",
        "  review = str(review).lower()\n",
        "  sentences = sent_tokenize(review)\n",
        "  for sentence in sentences:\n",
        "    doc = nlp(sentence)\n",
        "    root_token = find_root_of_sentence(doc)\n",
        "    other_verbs = find_other_verbs(doc,root_token)\n",
        "    token_spans = []\n",
        "    all_verbs = [root_token] + other_verbs\n",
        "    all_verbs = [x for x in all_verbs if x != None]\n",
        "    for other_verb in all_verbs:\n",
        "      first_token_index, last_token_index = get_clause_token_span_for_verb(other_verb, doc, all_verbs)\n",
        "      token_spans.append((first_token_index,last_token_index))\n",
        "    sentence_clauses = []\n",
        "    for token_span in token_spans:\n",
        "      start = token_span[0]\n",
        "      end = token_span[1]\n",
        "      if start < end:\n",
        "        clause = doc[start:end]\n",
        "        sentence_clauses.append(clause)\n",
        "    sentence_clauses = sorted(sentence_clauses, key = lambda tup: tup[0])\n",
        "    clauses_text = [clause.text for clause in sentence_clauses]\n",
        "    print(clauses_text)\n",
        "    "
      ],
      "metadata": {
        "id": "zsJnC01PVOJf"
      },
      "execution_count": null,
      "outputs": []
    },
    {
      "cell_type": "code",
      "source": [
        "for bar in bar_list:\n",
        "  print (\"***\"+bar+\"***\")\n",
        "  reviews_df = pd.DataFrame(bar_reviews[bar_reviews['name']==bar]) #here we got every review for this one bar\n",
        "  for category in category_dic.keys():\n",
        "    print('-'+category+'-')\n",
        "    display(reviews_df[reviews_df['review_categories'].str.contains(category)]['review_text']) #selecting only the reviews that belong to a certain category\n",
        "\n"
      ],
      "metadata": {
        "id": "_NlS31DFt-Jm"
      },
      "execution_count": null,
      "outputs": []
    },
    {
      "cell_type": "code",
      "source": [
        "test_reviews_df = pd.DataFrame(bar_reviews[bar_reviews['name']=='Vig Bar'])\n",
        "test_ambience_df = pd.DataFrame(reviews_df[reviews_df['review_categories'].str.contains('Ambience/Vibes')]['review_text'])\n",
        "test_ambience_df"
      ],
      "metadata": {
        "colab": {
          "base_uri": "https://localhost:8080/",
          "height": 896
        },
        "id": "U28M0K0PuaGl",
        "outputId": "be27af47-c0b1-4d62-bf0b-5f8fb54f2188"
      },
      "execution_count": null,
      "outputs": [
        {
          "output_type": "execute_result",
          "data": {
            "text/plain": [
              "                                            review_text\n",
              "2210  probably not a bar for everyone but it is abso...\n",
              "2211  great service and cool place to go when in the...\n",
              "2216  great drive sports bar. has jello shots and a ...\n",
              "2219  the patriot saloon is a no frills, no nonsense...\n",
              "2221  very cool bar. cozy and super ambient. beverag...\n",
              "2228  we had a great time. the crowd was lively, som...\n",
              "2231  great spot for a pint and bar bites during lun...\n",
              "2237  best place to get a drink in downtown manhatta...\n",
              "2238  if you like old music and good beer price, thi...\n",
              "2239  the patriot is always a great time!! the drink...\n",
              "2242  nice lunch and drink spot.. quiet and polite.....\n",
              "2246  we went to the patriot saloon during our lunch...\n",
              "2257  i love dive bars so no surprise here, i love t...\n",
              "2258  an interesting place, to say the least, like a...\n",
              "2259  fortunate son was blasting as i drank brooklyn...\n",
              "2260  when me and my friends got there, we were imme...\n",
              "2265  a new york classic. this bar caters to the aft...\n",
              "2276  i don't want to jump the gun on a 5 star ratin...\n",
              "2279  probably the best bar in america with the most...\n",
              "2280  this bar isn't for everyone - certainly not th...\n",
              "2282  delicious pulled pork and great sliders. add c...\n",
              "2298  how best to describe this place? it?s like a f...\n",
              "2299  great dive bar! cash only so be warned, but yo...\n",
              "2301  yes, this is a bar that is not at all pretenti...\n",
              "2302  great local spot. stopped in just grab a drink...\n",
              "2303  ever looking for a dive with cheap beers and m...\n",
              "2308  bartender were amazing fun and friendly, very ..."
            ],
            "text/html": [
              "\n",
              "  <div id=\"df-b2b6588c-6592-4bdf-816a-d1e5f78196f8\">\n",
              "    <div class=\"colab-df-container\">\n",
              "      <div>\n",
              "<style scoped>\n",
              "    .dataframe tbody tr th:only-of-type {\n",
              "        vertical-align: middle;\n",
              "    }\n",
              "\n",
              "    .dataframe tbody tr th {\n",
              "        vertical-align: top;\n",
              "    }\n",
              "\n",
              "    .dataframe thead th {\n",
              "        text-align: right;\n",
              "    }\n",
              "</style>\n",
              "<table border=\"1\" class=\"dataframe\">\n",
              "  <thead>\n",
              "    <tr style=\"text-align: right;\">\n",
              "      <th></th>\n",
              "      <th>review_text</th>\n",
              "    </tr>\n",
              "  </thead>\n",
              "  <tbody>\n",
              "    <tr>\n",
              "      <th>2210</th>\n",
              "      <td>probably not a bar for everyone but it is abso...</td>\n",
              "    </tr>\n",
              "    <tr>\n",
              "      <th>2211</th>\n",
              "      <td>great service and cool place to go when in the...</td>\n",
              "    </tr>\n",
              "    <tr>\n",
              "      <th>2216</th>\n",
              "      <td>great drive sports bar. has jello shots and a ...</td>\n",
              "    </tr>\n",
              "    <tr>\n",
              "      <th>2219</th>\n",
              "      <td>the patriot saloon is a no frills, no nonsense...</td>\n",
              "    </tr>\n",
              "    <tr>\n",
              "      <th>2221</th>\n",
              "      <td>very cool bar. cozy and super ambient. beverag...</td>\n",
              "    </tr>\n",
              "    <tr>\n",
              "      <th>2228</th>\n",
              "      <td>we had a great time. the crowd was lively, som...</td>\n",
              "    </tr>\n",
              "    <tr>\n",
              "      <th>2231</th>\n",
              "      <td>great spot for a pint and bar bites during lun...</td>\n",
              "    </tr>\n",
              "    <tr>\n",
              "      <th>2237</th>\n",
              "      <td>best place to get a drink in downtown manhatta...</td>\n",
              "    </tr>\n",
              "    <tr>\n",
              "      <th>2238</th>\n",
              "      <td>if you like old music and good beer price, thi...</td>\n",
              "    </tr>\n",
              "    <tr>\n",
              "      <th>2239</th>\n",
              "      <td>the patriot is always a great time!! the drink...</td>\n",
              "    </tr>\n",
              "    <tr>\n",
              "      <th>2242</th>\n",
              "      <td>nice lunch and drink spot.. quiet and polite.....</td>\n",
              "    </tr>\n",
              "    <tr>\n",
              "      <th>2246</th>\n",
              "      <td>we went to the patriot saloon during our lunch...</td>\n",
              "    </tr>\n",
              "    <tr>\n",
              "      <th>2257</th>\n",
              "      <td>i love dive bars so no surprise here, i love t...</td>\n",
              "    </tr>\n",
              "    <tr>\n",
              "      <th>2258</th>\n",
              "      <td>an interesting place, to say the least, like a...</td>\n",
              "    </tr>\n",
              "    <tr>\n",
              "      <th>2259</th>\n",
              "      <td>fortunate son was blasting as i drank brooklyn...</td>\n",
              "    </tr>\n",
              "    <tr>\n",
              "      <th>2260</th>\n",
              "      <td>when me and my friends got there, we were imme...</td>\n",
              "    </tr>\n",
              "    <tr>\n",
              "      <th>2265</th>\n",
              "      <td>a new york classic. this bar caters to the aft...</td>\n",
              "    </tr>\n",
              "    <tr>\n",
              "      <th>2276</th>\n",
              "      <td>i don't want to jump the gun on a 5 star ratin...</td>\n",
              "    </tr>\n",
              "    <tr>\n",
              "      <th>2279</th>\n",
              "      <td>probably the best bar in america with the most...</td>\n",
              "    </tr>\n",
              "    <tr>\n",
              "      <th>2280</th>\n",
              "      <td>this bar isn't for everyone - certainly not th...</td>\n",
              "    </tr>\n",
              "    <tr>\n",
              "      <th>2282</th>\n",
              "      <td>delicious pulled pork and great sliders. add c...</td>\n",
              "    </tr>\n",
              "    <tr>\n",
              "      <th>2298</th>\n",
              "      <td>how best to describe this place? it?s like a f...</td>\n",
              "    </tr>\n",
              "    <tr>\n",
              "      <th>2299</th>\n",
              "      <td>great dive bar! cash only so be warned, but yo...</td>\n",
              "    </tr>\n",
              "    <tr>\n",
              "      <th>2301</th>\n",
              "      <td>yes, this is a bar that is not at all pretenti...</td>\n",
              "    </tr>\n",
              "    <tr>\n",
              "      <th>2302</th>\n",
              "      <td>great local spot. stopped in just grab a drink...</td>\n",
              "    </tr>\n",
              "    <tr>\n",
              "      <th>2303</th>\n",
              "      <td>ever looking for a dive with cheap beers and m...</td>\n",
              "    </tr>\n",
              "    <tr>\n",
              "      <th>2308</th>\n",
              "      <td>bartender were amazing fun and friendly, very ...</td>\n",
              "    </tr>\n",
              "  </tbody>\n",
              "</table>\n",
              "</div>\n",
              "      <button class=\"colab-df-convert\" onclick=\"convertToInteractive('df-b2b6588c-6592-4bdf-816a-d1e5f78196f8')\"\n",
              "              title=\"Convert this dataframe to an interactive table.\"\n",
              "              style=\"display:none;\">\n",
              "        \n",
              "  <svg xmlns=\"http://www.w3.org/2000/svg\" height=\"24px\"viewBox=\"0 0 24 24\"\n",
              "       width=\"24px\">\n",
              "    <path d=\"M0 0h24v24H0V0z\" fill=\"none\"/>\n",
              "    <path d=\"M18.56 5.44l.94 2.06.94-2.06 2.06-.94-2.06-.94-.94-2.06-.94 2.06-2.06.94zm-11 1L8.5 8.5l.94-2.06 2.06-.94-2.06-.94L8.5 2.5l-.94 2.06-2.06.94zm10 10l.94 2.06.94-2.06 2.06-.94-2.06-.94-.94-2.06-.94 2.06-2.06.94z\"/><path d=\"M17.41 7.96l-1.37-1.37c-.4-.4-.92-.59-1.43-.59-.52 0-1.04.2-1.43.59L10.3 9.45l-7.72 7.72c-.78.78-.78 2.05 0 2.83L4 21.41c.39.39.9.59 1.41.59.51 0 1.02-.2 1.41-.59l7.78-7.78 2.81-2.81c.8-.78.8-2.07 0-2.86zM5.41 20L4 18.59l7.72-7.72 1.47 1.35L5.41 20z\"/>\n",
              "  </svg>\n",
              "      </button>\n",
              "      \n",
              "  <style>\n",
              "    .colab-df-container {\n",
              "      display:flex;\n",
              "      flex-wrap:wrap;\n",
              "      gap: 12px;\n",
              "    }\n",
              "\n",
              "    .colab-df-convert {\n",
              "      background-color: #E8F0FE;\n",
              "      border: none;\n",
              "      border-radius: 50%;\n",
              "      cursor: pointer;\n",
              "      display: none;\n",
              "      fill: #1967D2;\n",
              "      height: 32px;\n",
              "      padding: 0 0 0 0;\n",
              "      width: 32px;\n",
              "    }\n",
              "\n",
              "    .colab-df-convert:hover {\n",
              "      background-color: #E2EBFA;\n",
              "      box-shadow: 0px 1px 2px rgba(60, 64, 67, 0.3), 0px 1px 3px 1px rgba(60, 64, 67, 0.15);\n",
              "      fill: #174EA6;\n",
              "    }\n",
              "\n",
              "    [theme=dark] .colab-df-convert {\n",
              "      background-color: #3B4455;\n",
              "      fill: #D2E3FC;\n",
              "    }\n",
              "\n",
              "    [theme=dark] .colab-df-convert:hover {\n",
              "      background-color: #434B5C;\n",
              "      box-shadow: 0px 1px 3px 1px rgba(0, 0, 0, 0.15);\n",
              "      filter: drop-shadow(0px 1px 2px rgba(0, 0, 0, 0.3));\n",
              "      fill: #FFFFFF;\n",
              "    }\n",
              "  </style>\n",
              "\n",
              "      <script>\n",
              "        const buttonEl =\n",
              "          document.querySelector('#df-b2b6588c-6592-4bdf-816a-d1e5f78196f8 button.colab-df-convert');\n",
              "        buttonEl.style.display =\n",
              "          google.colab.kernel.accessAllowed ? 'block' : 'none';\n",
              "\n",
              "        async function convertToInteractive(key) {\n",
              "          const element = document.querySelector('#df-b2b6588c-6592-4bdf-816a-d1e5f78196f8');\n",
              "          const dataTable =\n",
              "            await google.colab.kernel.invokeFunction('convertToInteractive',\n",
              "                                                     [key], {});\n",
              "          if (!dataTable) return;\n",
              "\n",
              "          const docLinkHtml = 'Like what you see? Visit the ' +\n",
              "            '<a target=\"_blank\" href=https://colab.research.google.com/notebooks/data_table.ipynb>data table notebook</a>'\n",
              "            + ' to learn more about interactive tables.';\n",
              "          element.innerHTML = '';\n",
              "          dataTable['output_type'] = 'display_data';\n",
              "          await google.colab.output.renderOutput(dataTable, element);\n",
              "          const docLink = document.createElement('div');\n",
              "          docLink.innerHTML = docLinkHtml;\n",
              "          element.appendChild(docLink);\n",
              "        }\n",
              "      </script>\n",
              "    </div>\n",
              "  </div>\n",
              "  "
            ]
          },
          "metadata": {},
          "execution_count": 27
        }
      ]
    },
    {
      "cell_type": "code",
      "source": [
        "test_clause_column = []\n",
        "\n",
        "for review in test_ambience_df['review_text']:\n",
        "  review_clauses = []\n",
        "  review = str(review).lower()\n",
        "  sentences = sent_tokenize(review)\n",
        "  for sentence in sentences:\n",
        "    doc = nlp(sentence)\n",
        "    root_token = find_root_of_sentence(doc)\n",
        "    other_verbs = find_other_verbs(doc,root_token)\n",
        "    token_spans = []\n",
        "    all_verbs = [root_token] + other_verbs\n",
        "    all_verbs = [x for x in all_verbs if x != None]\n",
        "    for other_verb in all_verbs:\n",
        "      first_token_index, last_token_index = get_clause_token_span_for_verb(other_verb, doc, all_verbs)\n",
        "      token_spans.append((first_token_index,last_token_index))\n",
        "    sentence_clauses = []\n",
        "    for token_span in token_spans:\n",
        "      start = token_span[0]\n",
        "      end = token_span[1]\n",
        "      if start < end:\n",
        "        clause = doc[start:end]\n",
        "        sentence_clauses.append(clause)\n",
        "        sentence_clauses = sorted(sentence_clauses, key = lambda tup: tup[0])\n",
        "        for clause in sentence_clauses:\n",
        "          clause_words = clause.text.split(' ')\n",
        "\n",
        "          i = 0\n",
        "          while i in range(0,len(clause_words)):                   #iterate through every word in the review\n",
        "            if clause_words[i] in category_dic.get('Ambience/Vibes'):      #if the review has a word from the category word list, designated the category to the review\n",
        "              review_clauses.append(clause.text)\n",
        "              break\n",
        "            else: \n",
        "              i+=1\n",
        "  test_clause_column.append(\" \".join(review_clauses))\n",
        "\n",
        "    "
      ],
      "metadata": {
        "id": "WQnY4MRkuqXK"
      },
      "execution_count": null,
      "outputs": []
    },
    {
      "cell_type": "code",
      "source": [
        "test_ambience_df['clauses'] = test_clause_column\n",
        "test_ambience_df.head()"
      ],
      "metadata": {
        "colab": {
          "base_uri": "https://localhost:8080/",
          "height": 206
        },
        "id": "1nxqt2hqy6no",
        "outputId": "29ea2a20-340f-455f-9479-642a340e8fe2"
      },
      "execution_count": null,
      "outputs": [
        {
          "output_type": "execute_result",
          "data": {
            "text/plain": [
              "                                            review_text  \\\n",
              "2210  probably not a bar for everyone but it is abso...   \n",
              "2211  great service and cool place to go when in the...   \n",
              "2216  great drive sports bar. has jello shots and a ...   \n",
              "2219  the patriot saloon is a no frills, no nonsense...   \n",
              "2221  very cool bar. cozy and super ambient. beverag...   \n",
              "\n",
              "                                                clauses  \n",
              "2210  , slightly grungy environment with an old-scho...  \n",
              "2211                                                     \n",
              "2216                                                     \n",
              "2219  evidence that this place is rowdy on the weeke...  \n",
              "2221                       music comes from the jukebox  "
            ],
            "text/html": [
              "\n",
              "  <div id=\"df-7bc6d5b9-e3f9-4817-9866-fa3a7a9bdb30\">\n",
              "    <div class=\"colab-df-container\">\n",
              "      <div>\n",
              "<style scoped>\n",
              "    .dataframe tbody tr th:only-of-type {\n",
              "        vertical-align: middle;\n",
              "    }\n",
              "\n",
              "    .dataframe tbody tr th {\n",
              "        vertical-align: top;\n",
              "    }\n",
              "\n",
              "    .dataframe thead th {\n",
              "        text-align: right;\n",
              "    }\n",
              "</style>\n",
              "<table border=\"1\" class=\"dataframe\">\n",
              "  <thead>\n",
              "    <tr style=\"text-align: right;\">\n",
              "      <th></th>\n",
              "      <th>review_text</th>\n",
              "      <th>clauses</th>\n",
              "    </tr>\n",
              "  </thead>\n",
              "  <tbody>\n",
              "    <tr>\n",
              "      <th>2210</th>\n",
              "      <td>probably not a bar for everyone but it is abso...</td>\n",
              "      <td>, slightly grungy environment with an old-scho...</td>\n",
              "    </tr>\n",
              "    <tr>\n",
              "      <th>2211</th>\n",
              "      <td>great service and cool place to go when in the...</td>\n",
              "      <td></td>\n",
              "    </tr>\n",
              "    <tr>\n",
              "      <th>2216</th>\n",
              "      <td>great drive sports bar. has jello shots and a ...</td>\n",
              "      <td></td>\n",
              "    </tr>\n",
              "    <tr>\n",
              "      <th>2219</th>\n",
              "      <td>the patriot saloon is a no frills, no nonsense...</td>\n",
              "      <td>evidence that this place is rowdy on the weeke...</td>\n",
              "    </tr>\n",
              "    <tr>\n",
              "      <th>2221</th>\n",
              "      <td>very cool bar. cozy and super ambient. beverag...</td>\n",
              "      <td>music comes from the jukebox</td>\n",
              "    </tr>\n",
              "  </tbody>\n",
              "</table>\n",
              "</div>\n",
              "      <button class=\"colab-df-convert\" onclick=\"convertToInteractive('df-7bc6d5b9-e3f9-4817-9866-fa3a7a9bdb30')\"\n",
              "              title=\"Convert this dataframe to an interactive table.\"\n",
              "              style=\"display:none;\">\n",
              "        \n",
              "  <svg xmlns=\"http://www.w3.org/2000/svg\" height=\"24px\"viewBox=\"0 0 24 24\"\n",
              "       width=\"24px\">\n",
              "    <path d=\"M0 0h24v24H0V0z\" fill=\"none\"/>\n",
              "    <path d=\"M18.56 5.44l.94 2.06.94-2.06 2.06-.94-2.06-.94-.94-2.06-.94 2.06-2.06.94zm-11 1L8.5 8.5l.94-2.06 2.06-.94-2.06-.94L8.5 2.5l-.94 2.06-2.06.94zm10 10l.94 2.06.94-2.06 2.06-.94-2.06-.94-.94-2.06-.94 2.06-2.06.94z\"/><path d=\"M17.41 7.96l-1.37-1.37c-.4-.4-.92-.59-1.43-.59-.52 0-1.04.2-1.43.59L10.3 9.45l-7.72 7.72c-.78.78-.78 2.05 0 2.83L4 21.41c.39.39.9.59 1.41.59.51 0 1.02-.2 1.41-.59l7.78-7.78 2.81-2.81c.8-.78.8-2.07 0-2.86zM5.41 20L4 18.59l7.72-7.72 1.47 1.35L5.41 20z\"/>\n",
              "  </svg>\n",
              "      </button>\n",
              "      \n",
              "  <style>\n",
              "    .colab-df-container {\n",
              "      display:flex;\n",
              "      flex-wrap:wrap;\n",
              "      gap: 12px;\n",
              "    }\n",
              "\n",
              "    .colab-df-convert {\n",
              "      background-color: #E8F0FE;\n",
              "      border: none;\n",
              "      border-radius: 50%;\n",
              "      cursor: pointer;\n",
              "      display: none;\n",
              "      fill: #1967D2;\n",
              "      height: 32px;\n",
              "      padding: 0 0 0 0;\n",
              "      width: 32px;\n",
              "    }\n",
              "\n",
              "    .colab-df-convert:hover {\n",
              "      background-color: #E2EBFA;\n",
              "      box-shadow: 0px 1px 2px rgba(60, 64, 67, 0.3), 0px 1px 3px 1px rgba(60, 64, 67, 0.15);\n",
              "      fill: #174EA6;\n",
              "    }\n",
              "\n",
              "    [theme=dark] .colab-df-convert {\n",
              "      background-color: #3B4455;\n",
              "      fill: #D2E3FC;\n",
              "    }\n",
              "\n",
              "    [theme=dark] .colab-df-convert:hover {\n",
              "      background-color: #434B5C;\n",
              "      box-shadow: 0px 1px 3px 1px rgba(0, 0, 0, 0.15);\n",
              "      filter: drop-shadow(0px 1px 2px rgba(0, 0, 0, 0.3));\n",
              "      fill: #FFFFFF;\n",
              "    }\n",
              "  </style>\n",
              "\n",
              "      <script>\n",
              "        const buttonEl =\n",
              "          document.querySelector('#df-7bc6d5b9-e3f9-4817-9866-fa3a7a9bdb30 button.colab-df-convert');\n",
              "        buttonEl.style.display =\n",
              "          google.colab.kernel.accessAllowed ? 'block' : 'none';\n",
              "\n",
              "        async function convertToInteractive(key) {\n",
              "          const element = document.querySelector('#df-7bc6d5b9-e3f9-4817-9866-fa3a7a9bdb30');\n",
              "          const dataTable =\n",
              "            await google.colab.kernel.invokeFunction('convertToInteractive',\n",
              "                                                     [key], {});\n",
              "          if (!dataTable) return;\n",
              "\n",
              "          const docLinkHtml = 'Like what you see? Visit the ' +\n",
              "            '<a target=\"_blank\" href=https://colab.research.google.com/notebooks/data_table.ipynb>data table notebook</a>'\n",
              "            + ' to learn more about interactive tables.';\n",
              "          element.innerHTML = '';\n",
              "          dataTable['output_type'] = 'display_data';\n",
              "          await google.colab.output.renderOutput(dataTable, element);\n",
              "          const docLink = document.createElement('div');\n",
              "          docLink.innerHTML = docLinkHtml;\n",
              "          element.appendChild(docLink);\n",
              "        }\n",
              "      </script>\n",
              "    </div>\n",
              "  </div>\n",
              "  "
            ]
          },
          "metadata": {},
          "execution_count": 29
        }
      ]
    },
    {
      "cell_type": "code",
      "source": [
        "# function to calculate polarity\n",
        "from textblob import TextBlob\n",
        "def getPolarity(review):\n",
        "  return TextBlob(review).sentiment.polarity"
      ],
      "metadata": {
        "id": "meYJAoyu2hAz"
      },
      "execution_count": null,
      "outputs": []
    },
    {
      "cell_type": "code",
      "source": [
        "# Score for Vig Bar on the category of Ambience/Vibes, averaged across all Vig Bar reviews that mentioned Ambience\n",
        "total = 0\n",
        "for clause in test_ambience_df['clauses']:\n",
        "  total += getPolarity(clause)\n",
        "\n",
        "average = total / len(test_ambience_df['clauses'])\n",
        "\n",
        "print(average)  "
      ],
      "metadata": {
        "colab": {
          "base_uri": "https://localhost:8080/"
        },
        "id": "2mtn9DlU7I7F",
        "outputId": "557da908-5888-429e-fef9-705879aed502"
      },
      "execution_count": null,
      "outputs": [
        {
          "output_type": "stream",
          "name": "stdout",
          "text": [
            "0.19936167227833898\n"
          ]
        }
      ]
    },
    {
      "cell_type": "code",
      "source": [
        "import pandas as pd\n",
        "import matplotlib.pyplot as plt\n",
        "%matplotlib inline \n",
        "from wordcloud import WordCloud"
      ],
      "metadata": {
        "id": "Nlmxn8xdA9Ep"
      },
      "execution_count": null,
      "outputs": []
    },
    {
      "cell_type": "code",
      "source": [
        "test_clause_column_str = str(test_clause_column)"
      ],
      "metadata": {
        "id": "lZQ7pJIzBZB4"
      },
      "execution_count": null,
      "outputs": []
    },
    {
      "cell_type": "code",
      "source": [
        "def Word_Cloud_Function(parameter):    \n",
        "    word_cloud = WordCloud(collocations = False, background_color = 'white', colormap='tab10').generate(parameter)\n",
        "    plt.imshow(word_cloud, interpolation = 'bilinear')\n",
        "    plt.axis(\"off\")\n",
        "    plt.show()"
      ],
      "metadata": {
        "id": "TE1YNfSeA3Wa"
      },
      "execution_count": null,
      "outputs": []
    },
    {
      "cell_type": "code",
      "source": [
        "#AMBIENCE WORD CLOUD FOR VIG BAR\n",
        "Word_Cloud_Function(test_clause_column_str)"
      ],
      "metadata": {
        "colab": {
          "base_uri": "https://localhost:8080/",
          "height": 197
        },
        "id": "VnhEaFimBpPt",
        "outputId": "c43096ec-6268-4d69-ccaa-a7af08b1b0bd"
      },
      "execution_count": null,
      "outputs": [
        {
          "output_type": "display_data",
          "data": {
            "text/plain": [
              "<Figure size 432x288 with 1 Axes>"
            ],
            "image/png": "[encoded data removed]"
          },
          "metadata": {
            "needs_background": "light"
          }
        }
      ]
    },
    {
      "cell_type": "code",
      "source": [],
      "metadata": {
        "id": "Ru_xCKsfCafN"
      },
      "execution_count": null,
      "outputs": []
    },
    {
      "cell_type": "markdown",
      "source": [
        "# **FLASK**"
      ],
      "metadata": {
        "id": "jA9PjR22IAdS"
      }
    },
    {
      "cell_type": "code",
      "source": [
        "!pip install flask-ngrok\n",
        "\n",
        "!mkdir -p /drive/ngrok-ssh\n",
        "%cd /drive/ngrok-ssh\n",
        "!wget https://bin.equinox.io/c/4VmDzA7iaHb/ngrok-stable-linux-amd64.zip -O ngrok-stable-linux-amd64.zip\n",
        "!unzip -u ngrok-stable-linux-amd64.zip\n",
        "!cp /drive/ngrok-ssh/ngrok /ngrok\n",
        "!chmod +x /ngrok"
      ],
      "metadata": {
        "colab": {
          "base_uri": "https://localhost:8080/"
        },
        "id": "3v0wUjqSIDXN",
        "outputId": "98a89202-3505-4649-c38e-c27778e01df4"
      },
      "execution_count": null,
      "outputs": [
        {
          "output_type": "stream",
          "name": "stdout",
          "text": [
            "Requirement already satisfied: flask-ngrok in /usr/local/lib/python3.7/dist-packages (0.0.25)\n",
            "Requirement already satisfied: requests in /usr/local/lib/python3.7/dist-packages (from flask-ngrok) (2.23.0)\n",
            "Requirement already satisfied: Flask>=0.8 in /usr/local/lib/python3.7/dist-packages (from flask-ngrok) (1.1.4)\n",
            "Requirement already satisfied: itsdangerous<2.0,>=0.24 in /usr/local/lib/python3.7/dist-packages (from Flask>=0.8->flask-ngrok) (1.1.0)\n",
            "Requirement already satisfied: Jinja2<3.0,>=2.10.1 in /usr/local/lib/python3.7/dist-packages (from Flask>=0.8->flask-ngrok) (2.11.3)\n",
            "Requirement already satisfied: Werkzeug<2.0,>=0.15 in /usr/local/lib/python3.7/dist-packages (from Flask>=0.8->flask-ngrok) (1.0.1)\n",
            "Requirement already satisfied: click<8.0,>=5.1 in /usr/local/lib/python3.7/dist-packages (from Flask>=0.8->flask-ngrok) (7.1.2)\n",
            "Requirement already satisfied: MarkupSafe>=0.23 in /usr/local/lib/python3.7/dist-packages (from Jinja2<3.0,>=2.10.1->Flask>=0.8->flask-ngrok) (2.0.1)\n",
            "Requirement already satisfied: urllib3!=1.25.0,!=1.25.1,<1.26,>=1.21.1 in /usr/local/lib/python3.7/dist-packages (from requests->flask-ngrok) (1.24.3)\n",
            "Requirement already satisfied: certifi>=2017.4.17 in /usr/local/lib/python3.7/dist-packages (from requests->flask-ngrok) (2021.10.8)\n",
            "Requirement already satisfied: chardet<4,>=3.0.2 in /usr/local/lib/python3.7/dist-packages (from requests->flask-ngrok) (3.0.4)\n",
            "Requirement already satisfied: idna<3,>=2.5 in /usr/local/lib/python3.7/dist-packages (from requests->flask-ngrok) (2.10)\n",
            "/drive/ngrok-ssh\n",
            "--2022-04-29 21:31:10--  https://bin.equinox.io/c/4VmDzA7iaHb/ngrok-stable-linux-amd64.zip\n",
            "Resolving bin.equinox.io (bin.equinox.io)... 54.237.133.81, 52.202.168.65, 54.161.241.46, ...\n",
            "Connecting to bin.equinox.io (bin.equinox.io)|54.237.133.81|:443... connected.\n",
            "HTTP request sent, awaiting response... 200 OK\n",
            "Length: 13832437 (13M) [application/octet-stream]\n",
            "Saving to: ‘ngrok-stable-linux-amd64.zip’\n",
            "\n",
            "ngrok-stable-linux- 100%[===================>]  13.19M  6.07MB/s    in 2.2s    \n",
            "\n",
            "2022-04-29 21:31:13 (6.07 MB/s) - ‘ngrok-stable-linux-amd64.zip’ saved [13832437/13832437]\n",
            "\n",
            "Archive:  ngrok-stable-linux-amd64.zip\n"
          ]
        }
      ]
    },
    {
      "cell_type": "code",
      "source": [
        "!/ngrok authtoken 274xoL37wyjI8nLvt7mBtsjVKND_63KZvnYdTYfvTH9WErr6A"
      ],
      "metadata": {
        "colab": {
          "base_uri": "https://localhost:8080/"
        },
        "id": "EFsx9aU1IEOQ",
        "outputId": "a3be6162-49c3-48e9-9a43-c9e11fba197e"
      },
      "execution_count": null,
      "outputs": [
        {
          "output_type": "stream",
          "name": "stdout",
          "text": [
            "Authtoken saved to configuration file: /root/.ngrok2/ngrok.yml\n"
          ]
        }
      ]
    },
    {
      "cell_type": "code",
      "source": [
        "test_reviews_df.columns"
      ],
      "metadata": {
        "colab": {
          "base_uri": "https://localhost:8080/"
        },
        "id": "NUjLrMrCkujn",
        "outputId": "c8eea154-d4c2-44fb-f480-d6d66744c103"
      },
      "execution_count": null,
      "outputs": [
        {
          "output_type": "execute_result",
          "data": {
            "text/plain": [
              "Index(['name', 'review_text', 'review_categories'], dtype='object')"
            ]
          },
          "metadata": {},
          "execution_count": 38
        }
      ]
    },
    {
      "cell_type": "code",
      "source": [
        "#remove non-alphanumeric characters \n",
        "pattern = re.compile('\\W')\n",
        "\n",
        "for x in range(0, len(test_reviews_df['review_text'])):\n",
        "  test_reviews_df['review_text'][x] = re.sub(pattern, ' ', str(test_reviews_df['review_text'][x]))"
      ],
      "metadata": {
        "id": "m9ybB6aQoNzo"
      },
      "execution_count": null,
      "outputs": []
    },
    {
      "cell_type": "code",
      "source": [
        "vig_reviews_list = []\n",
        "for review in test_reviews_df['review_text']:\n",
        "  vig_reviews_list.append(review)"
      ],
      "metadata": {
        "id": "gYA1tZIDFWFH"
      },
      "execution_count": null,
      "outputs": []
    },
    {
      "cell_type": "code",
      "source": [
        "test_vig_ambience_df = pd.DataFrame(test_reviews_df[test_reviews_df['review_categories'].str.contains('Ambience/Vibes')]['review_text'])"
      ],
      "metadata": {
        "id": "44v4rQ7ZOBX5"
      },
      "execution_count": null,
      "outputs": []
    },
    {
      "cell_type": "code",
      "source": [
        "test_vig_ambience_df "
      ],
      "metadata": {
        "colab": {
          "base_uri": "https://localhost:8080/",
          "height": 896
        },
        "id": "ETL2GfeEOISD",
        "outputId": "35f648ba-2f68-43a6-c6f8-9f51f55e1e5d"
      },
      "execution_count": null,
      "outputs": [
        {
          "output_type": "execute_result",
          "data": {
            "text/plain": [
              "                                          review_text\n",
              "1   what a party  cool cocktail bar during the day...\n",
              "2   after contacting 25  different places  i chose...\n",
              "4   i was able to host a small holiday party event...\n",
              "7   the solo bartender is a machine  she can take ...\n",
              "11  excellent fixture in the neighborhood with a y...\n",
              "16  this is a cool place just off the bowery  the ...\n",
              "21  the vig is a l shaped cool lounge bar with low...\n",
              "24  one of my favorite places to go to because of ...\n",
              "25  great bar and one of my favourites in the hood...\n",
              "28  great atmosphere great service   the bartender...\n",
              "29  quaint little bar with good vibes and great dr...\n",
              "30  vig bar straddles a very happy medium between ...\n",
              "33  nice chill bar in a busy area  there s a dj an...\n",
              "35  came here late on a saturday night  somehow wa...\n",
              "36   12 dollars for 1 finger of bullet rye   nothi...\n",
              "42  a ole school hunt for me  you milllenials go t...\n",
              "51  love this place  on weekdays it is a great pla...\n",
              "55  great bar and one of my favourites in the hood...\n",
              "57  dark bar with very friendly staff and welcomin...\n",
              "65  great place  good service and a cool welcoming...\n",
              "66  my favorite bar    friendly bartenders  and co...\n",
              "67  little known fact   there s an entire back roo...\n",
              "70  perfect music and great staff  go here if you ...\n",
              "81          good quiet bar  bartender very attentive \n",
              "83                       loved the music and ambiance\n",
              "87      good music and very professional bartender   \n",
              "96          diversity    happy hour   nice atmosphere"
            ],
            "text/html": [
              "\n",
              "  <div id=\"df-8daa8dc0-d21f-4359-96f2-4d4aeebff5ed\">\n",
              "    <div class=\"colab-df-container\">\n",
              "      <div>\n",
              "<style scoped>\n",
              "    .dataframe tbody tr th:only-of-type {\n",
              "        vertical-align: middle;\n",
              "    }\n",
              "\n",
              "    .dataframe tbody tr th {\n",
              "        vertical-align: top;\n",
              "    }\n",
              "\n",
              "    .dataframe thead th {\n",
              "        text-align: right;\n",
              "    }\n",
              "</style>\n",
              "<table border=\"1\" class=\"dataframe\">\n",
              "  <thead>\n",
              "    <tr style=\"text-align: right;\">\n",
              "      <th></th>\n",
              "      <th>review_text</th>\n",
              "    </tr>\n",
              "  </thead>\n",
              "  <tbody>\n",
              "    <tr>\n",
              "      <th>1</th>\n",
              "      <td>what a party  cool cocktail bar during the day...</td>\n",
              "    </tr>\n",
              "    <tr>\n",
              "      <th>2</th>\n",
              "      <td>after contacting 25  different places  i chose...</td>\n",
              "    </tr>\n",
              "    <tr>\n",
              "      <th>4</th>\n",
              "      <td>i was able to host a small holiday party event...</td>\n",
              "    </tr>\n",
              "    <tr>\n",
              "      <th>7</th>\n",
              "      <td>the solo bartender is a machine  she can take ...</td>\n",
              "    </tr>\n",
              "    <tr>\n",
              "      <th>11</th>\n",
              "      <td>excellent fixture in the neighborhood with a y...</td>\n",
              "    </tr>\n",
              "    <tr>\n",
              "      <th>16</th>\n",
              "      <td>this is a cool place just off the bowery  the ...</td>\n",
              "    </tr>\n",
              "    <tr>\n",
              "      <th>21</th>\n",
              "      <td>the vig is a l shaped cool lounge bar with low...</td>\n",
              "    </tr>\n",
              "    <tr>\n",
              "      <th>24</th>\n",
              "      <td>one of my favorite places to go to because of ...</td>\n",
              "    </tr>\n",
              "    <tr>\n",
              "      <th>25</th>\n",
              "      <td>great bar and one of my favourites in the hood...</td>\n",
              "    </tr>\n",
              "    <tr>\n",
              "      <th>28</th>\n",
              "      <td>great atmosphere great service   the bartender...</td>\n",
              "    </tr>\n",
              "    <tr>\n",
              "      <th>29</th>\n",
              "      <td>quaint little bar with good vibes and great dr...</td>\n",
              "    </tr>\n",
              "    <tr>\n",
              "      <th>30</th>\n",
              "      <td>vig bar straddles a very happy medium between ...</td>\n",
              "    </tr>\n",
              "    <tr>\n",
              "      <th>33</th>\n",
              "      <td>nice chill bar in a busy area  there s a dj an...</td>\n",
              "    </tr>\n",
              "    <tr>\n",
              "      <th>35</th>\n",
              "      <td>came here late on a saturday night  somehow wa...</td>\n",
              "    </tr>\n",
              "    <tr>\n",
              "      <th>36</th>\n",
              "      <td>12 dollars for 1 finger of bullet rye   nothi...</td>\n",
              "    </tr>\n",
              "    <tr>\n",
              "      <th>42</th>\n",
              "      <td>a ole school hunt for me  you milllenials go t...</td>\n",
              "    </tr>\n",
              "    <tr>\n",
              "      <th>51</th>\n",
              "      <td>love this place  on weekdays it is a great pla...</td>\n",
              "    </tr>\n",
              "    <tr>\n",
              "      <th>55</th>\n",
              "      <td>great bar and one of my favourites in the hood...</td>\n",
              "    </tr>\n",
              "    <tr>\n",
              "      <th>57</th>\n",
              "      <td>dark bar with very friendly staff and welcomin...</td>\n",
              "    </tr>\n",
              "    <tr>\n",
              "      <th>65</th>\n",
              "      <td>great place  good service and a cool welcoming...</td>\n",
              "    </tr>\n",
              "    <tr>\n",
              "      <th>66</th>\n",
              "      <td>my favorite bar    friendly bartenders  and co...</td>\n",
              "    </tr>\n",
              "    <tr>\n",
              "      <th>67</th>\n",
              "      <td>little known fact   there s an entire back roo...</td>\n",
              "    </tr>\n",
              "    <tr>\n",
              "      <th>70</th>\n",
              "      <td>perfect music and great staff  go here if you ...</td>\n",
              "    </tr>\n",
              "    <tr>\n",
              "      <th>81</th>\n",
              "      <td>good quiet bar  bartender very attentive</td>\n",
              "    </tr>\n",
              "    <tr>\n",
              "      <th>83</th>\n",
              "      <td>loved the music and ambiance</td>\n",
              "    </tr>\n",
              "    <tr>\n",
              "      <th>87</th>\n",
              "      <td>good music and very professional bartender</td>\n",
              "    </tr>\n",
              "    <tr>\n",
              "      <th>96</th>\n",
              "      <td>diversity    happy hour   nice atmosphere</td>\n",
              "    </tr>\n",
              "  </tbody>\n",
              "</table>\n",
              "</div>\n",
              "      <button class=\"colab-df-convert\" onclick=\"convertToInteractive('df-8daa8dc0-d21f-4359-96f2-4d4aeebff5ed')\"\n",
              "              title=\"Convert this dataframe to an interactive table.\"\n",
              "              style=\"display:none;\">\n",
              "        \n",
              "  <svg xmlns=\"http://www.w3.org/2000/svg\" height=\"24px\"viewBox=\"0 0 24 24\"\n",
              "       width=\"24px\">\n",
              "    <path d=\"M0 0h24v24H0V0z\" fill=\"none\"/>\n",
              "    <path d=\"M18.56 5.44l.94 2.06.94-2.06 2.06-.94-2.06-.94-.94-2.06-.94 2.06-2.06.94zm-11 1L8.5 8.5l.94-2.06 2.06-.94-2.06-.94L8.5 2.5l-.94 2.06-2.06.94zm10 10l.94 2.06.94-2.06 2.06-.94-2.06-.94-.94-2.06-.94 2.06-2.06.94z\"/><path d=\"M17.41 7.96l-1.37-1.37c-.4-.4-.92-.59-1.43-.59-.52 0-1.04.2-1.43.59L10.3 9.45l-7.72 7.72c-.78.78-.78 2.05 0 2.83L4 21.41c.39.39.9.59 1.41.59.51 0 1.02-.2 1.41-.59l7.78-7.78 2.81-2.81c.8-.78.8-2.07 0-2.86zM5.41 20L4 18.59l7.72-7.72 1.47 1.35L5.41 20z\"/>\n",
              "  </svg>\n",
              "      </button>\n",
              "      \n",
              "  <style>\n",
              "    .colab-df-container {\n",
              "      display:flex;\n",
              "      flex-wrap:wrap;\n",
              "      gap: 12px;\n",
              "    }\n",
              "\n",
              "    .colab-df-convert {\n",
              "      background-color: #E8F0FE;\n",
              "      border: none;\n",
              "      border-radius: 50%;\n",
              "      cursor: pointer;\n",
              "      display: none;\n",
              "      fill: #1967D2;\n",
              "      height: 32px;\n",
              "      padding: 0 0 0 0;\n",
              "      width: 32px;\n",
              "    }\n",
              "\n",
              "    .colab-df-convert:hover {\n",
              "      background-color: #E2EBFA;\n",
              "      box-shadow: 0px 1px 2px rgba(60, 64, 67, 0.3), 0px 1px 3px 1px rgba(60, 64, 67, 0.15);\n",
              "      fill: #174EA6;\n",
              "    }\n",
              "\n",
              "    [theme=dark] .colab-df-convert {\n",
              "      background-color: #3B4455;\n",
              "      fill: #D2E3FC;\n",
              "    }\n",
              "\n",
              "    [theme=dark] .colab-df-convert:hover {\n",
              "      background-color: #434B5C;\n",
              "      box-shadow: 0px 1px 3px 1px rgba(0, 0, 0, 0.15);\n",
              "      filter: drop-shadow(0px 1px 2px rgba(0, 0, 0, 0.3));\n",
              "      fill: #FFFFFF;\n",
              "    }\n",
              "  </style>\n",
              "\n",
              "      <script>\n",
              "        const buttonEl =\n",
              "          document.querySelector('#df-8daa8dc0-d21f-4359-96f2-4d4aeebff5ed button.colab-df-convert');\n",
              "        buttonEl.style.display =\n",
              "          google.colab.kernel.accessAllowed ? 'block' : 'none';\n",
              "\n",
              "        async function convertToInteractive(key) {\n",
              "          const element = document.querySelector('#df-8daa8dc0-d21f-4359-96f2-4d4aeebff5ed');\n",
              "          const dataTable =\n",
              "            await google.colab.kernel.invokeFunction('convertToInteractive',\n",
              "                                                     [key], {});\n",
              "          if (!dataTable) return;\n",
              "\n",
              "          const docLinkHtml = 'Like what you see? Visit the ' +\n",
              "            '<a target=\"_blank\" href=https://colab.research.google.com/notebooks/data_table.ipynb>data table notebook</a>'\n",
              "            + ' to learn more about interactive tables.';\n",
              "          element.innerHTML = '';\n",
              "          dataTable['output_type'] = 'display_data';\n",
              "          await google.colab.output.renderOutput(dataTable, element);\n",
              "          const docLink = document.createElement('div');\n",
              "          docLink.innerHTML = docLinkHtml;\n",
              "          element.appendChild(docLink);\n",
              "        }\n",
              "      </script>\n",
              "    </div>\n",
              "  </div>\n",
              "  "
            ]
          },
          "metadata": {},
          "execution_count": 42
        }
      ]
    },
    {
      "cell_type": "code",
      "source": [
        "from IPython.display import HTML\n",
        "from flask import Flask, request, render_template, session, redirect\n",
        "from flask_ngrok import run_with_ngrok\n",
        "app = Flask(__name__)\n",
        "run_with_ngrok(app)\n",
        "\n",
        "@app.route('/')\n",
        "def intro():\n",
        "  return render_template('intro.html', mylist=bar_list)\n",
        "  \n",
        "@app.route('/<bar_name>')\n",
        "def bar(bar_name):\n",
        "  bar_name = re.sub('_', ' ', bar_name) #replacing underscore in name with a space\n",
        "  #\n",
        "  test_reviews_df = pd.DataFrame(bar_reviews[bar_reviews['name']==bar_name])\n",
        "  reviews_list = []\n",
        "  for review in test_reviews_df['review_text']:\n",
        "    reviews_list.append(review)\n",
        "  #\n",
        "  return render_template('bar.html', bar_name=bar_name, mylist=reviews_list) \n",
        "\n",
        "@app.route('/<bar_name>/<category_name>')\n",
        "def category(bar_name, category_name):\n",
        "  bar_name = re.sub('_', ' ', bar_name) #replacing underscore in name with a space\n",
        "  #  \n",
        "  test_reviews_df = pd.DataFrame(bar_reviews[bar_reviews['name']==bar_name])\n",
        "  test_category_df = pd.DataFrame(test_reviews_df[test_reviews_df['review_categories'].str.contains(category_name)]['review_text'])\n",
        "  reviews_list = []\n",
        "  for review in test_category_df['review_text']:\n",
        "    reviews_list.append(review)  \n",
        "  #\n",
        "  return render_template('category.html', bar_name=bar_name, category_name=category_name, mylist=reviews_list) \n",
        "\n",
        "app.run()"
      ],
      "metadata": {
        "colab": {
          "base_uri": "https://localhost:8080/"
        },
        "id": "zA-0embuIGak",
        "outputId": "bd1f5450-0927-4340-a4dd-71f820580c11"
      },
      "execution_count": null,
      "outputs": [
        {
          "output_type": "stream",
          "name": "stdout",
          "text": [
            " * Serving Flask app \"__main__\" (lazy loading)\n",
            " * Environment: production\n",
            "\u001b[31m   WARNING: This is a development server. Do not use it in a production deployment.\u001b[0m\n",
            "\u001b[2m   Use a production WSGI server instead.\u001b[0m\n",
            " * Debug mode: off\n"
          ]
        },
        {
          "output_type": "stream",
          "name": "stderr",
          "text": [
            " * Running on http://127.0.0.1:5000/ (Press CTRL+C to quit)\n"
          ]
        },
        {
          "output_type": "stream",
          "name": "stdout",
          "text": [
            " * Running on http://6f37-34-80-226-133.ngrok.io\n",
            " * Traffic stats available on http://127.0.0.1:4040\n"
          ]
        },
        {
          "output_type": "stream",
          "name": "stderr",
          "text": [
            "127.0.0.1 - - [29/Apr/2022 21:46:40] \"\u001b[37mGET / HTTP/1.1\u001b[0m\" 200 -\n",
            "127.0.0.1 - - [29/Apr/2022 21:46:41] \"\u001b[37mGET / HTTP/1.1\u001b[0m\" 200 -\n",
            "127.0.0.1 - - [29/Apr/2022 21:46:42] \"\u001b[37mGET / HTTP/1.1\u001b[0m\" 200 -\n",
            "127.0.0.1 - - [29/Apr/2022 21:46:42] \"\u001b[37mGET /favicon.ico HTTP/1.1\u001b[0m\" 200 -\n",
            "127.0.0.1 - - [29/Apr/2022 21:46:45] \"\u001b[37mGET /Vig_Bar HTTP/1.1\u001b[0m\" 200 -\n",
            "127.0.0.1 - - [29/Apr/2022 21:46:46] \"\u001b[37mGET /favicon.ico HTTP/1.1\u001b[0m\" 200 -\n",
            "127.0.0.1 - - [29/Apr/2022 21:46:46] \"\u001b[37mGET /Vig_Bar HTTP/1.1\u001b[0m\" 200 -\n",
            "127.0.0.1 - - [29/Apr/2022 21:46:49] \"\u001b[37mGET /Vig_Bar/Price HTTP/1.1\u001b[0m\" 200 -\n",
            "127.0.0.1 - - [29/Apr/2022 21:46:50] \"\u001b[37mGET /favicon.ico HTTP/1.1\u001b[0m\" 200 -\n",
            "127.0.0.1 - - [29/Apr/2022 21:46:50] \"\u001b[37mGET /Vig_Bar/Price HTTP/1.1\u001b[0m\" 200 -\n",
            "127.0.0.1 - - [29/Apr/2022 21:47:07] \"\u001b[37mGET /Vig_Bar HTTP/1.1\u001b[0m\" 200 -\n",
            "127.0.0.1 - - [29/Apr/2022 21:47:07] \"\u001b[37mGET /favicon.ico HTTP/1.1\u001b[0m\" 200 -\n",
            "127.0.0.1 - - [29/Apr/2022 21:47:16] \"\u001b[33mGET /Vig_Bar/Ambience/Vibes HTTP/1.1\u001b[0m\" 404 -\n",
            "127.0.0.1 - - [29/Apr/2022 21:47:16] \"\u001b[37mGET /favicon.ico HTTP/1.1\u001b[0m\" 200 -\n",
            "127.0.0.1 - - [29/Apr/2022 21:47:17] \"\u001b[33mGET /Vig_Bar/Ambience/Vibes HTTP/1.1\u001b[0m\" 404 -\n"
          ]
        }
      ]
    }
  ]
}